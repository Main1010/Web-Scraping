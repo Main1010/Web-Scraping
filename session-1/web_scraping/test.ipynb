{
 "cells": [
  {
   "cell_type": "code",
   "execution_count": 15,
   "metadata": {},
   "outputs": [
    {
     "name": "stdout",
     "output_type": "stream",
     "text": [
      "No title element found\n",
      "Link Text: No text, Link href: /\n",
      "Link Text: No text, Link href: /search\n",
      "Link Text: Login, Link href: /api/auth/v1/oauth/authorize?client_id=811&response_type=code&redirect_uri=/api/auth/v1/oauth/token&callback_uri=/bangladesh\n",
      "Link Text: সর্বশেষ, Link href: https://www.prothomalo.com/collection/latest\n",
      "Link Text: রাজনীতি, Link href: https://www.prothomalo.com/politics\n",
      "Link Text: বাংলাদেশ, Link href: https://www.prothomalo.com/bangladesh\n",
      "Link Text: অপরাধ, Link href: https://www.prothomalo.com/bangladesh/crime\n",
      "Link Text: বিশ্ব, Link href: https://www.prothomalo.com/world\n",
      "Link Text: বাণিজ্য, Link href: https://www.prothomalo.com/business\n",
      "Link Text: মতামত, Link href: https://www.prothomalo.com/opinion\n",
      "Link Text: খেলা, Link href: https://www.prothomalo.com/sports\n",
      "Link Text: বিনোদন, Link href: https://www.prothomalo.com/entertainment\n",
      "Link Text: চাকরি, Link href: https://www.prothomalo.com/chakri\n",
      "Link Text: জীবনযাপন, Link href: https://www.prothomalo.com/lifestyle\n",
      "Link Text: খুঁজুন, Link href: /search\n",
      "Link Text: ই-পেপার, Link href: https://epaper.prothomalo.com\n",
      "Link Text: Eng, Link href: https://en.prothomalo.com\n",
      "Link Text: Login, Link href: /api/auth/v1/oauth/authorize?client_id=811&response_type=code&redirect_uri=/api/auth/v1/oauth/token&callback_uri=/bangladesh\n"
     ]
    }
   ],
   "source": [
    "from requests_html import HTMLSession\n",
    "\n",
    "url = \"https://www.prothomalo.com/bangladesh\"\n",
    "\n",
    "session = HTMLSession()\n",
    "response = session.get(url)\n",
    "\n",
    "# Safely access the title\n",
    "title_element = response.html.find('h1', first=True)\n",
    "if title_element:\n",
    "    title = title_element.text\n",
    "    print(f\"Title: {title}\")\n",
    "else:\n",
    "    print(\"No title element found\")\n",
    "\n",
    "# Safely iterate over links\n",
    "links = response.html.find('a')\n",
    "if links:\n",
    "    for link in links:\n",
    "        link_text = link.text or \"No text\"\n",
    "        link_href = link.attrs.get('href', 'No href')\n",
    "        print(f\"Link Text: {link_text}, Link href: {link_href}\")\n",
    "else:\n",
    "    print(\"No links found\")\n",
    "\n",
    "\n",
    "\n",
    "\n"
   ]
  },
  {
   "cell_type": "code",
   "execution_count": 18,
   "metadata": {},
   "outputs": [
    {
     "name": "stdout",
     "output_type": "stream",
     "text": [
      "Contributor Name: ময়মনসিংহ অফিস\n"
     ]
    }
   ],
   "source": [
    "from requests_html import HTMLSession\n",
    "\n",
    "url = \"https://www.prothomalo.com/bangladesh/district/4ixn3w53jq\"\n",
    "\n",
    "session = HTMLSession()\n",
    "response = session.get(url)\n",
    "\n",
    "# Safely access the contributor name\n",
    "contributor_element = response.html.find('.contributor-name', first=True)\n",
    "if contributor_element:\n",
    "    contributor_name = contributor_element.text\n",
    "    print(f\"Contributor Name: {contributor_name}\")\n",
    "else:\n",
    "    print(\"Contributor name not found\")\n"
   ]
  },
  {
   "cell_type": "code",
   "execution_count": 19,
   "metadata": {},
   "outputs": [
    {
     "data": {
      "text/plain": [
       "'https://www.prothomalo.com/bangladesh/district'"
      ]
     },
     "execution_count": 19,
     "metadata": {},
     "output_type": "execute_result"
    }
   ],
   "source": [
    "category_elem = response.html.find('div.print-entity-section-wrapper > a', first=True)\n",
    "category_elem.attrs['href']"
   ]
  },
  {
   "cell_type": "code",
   "execution_count": 20,
   "metadata": {},
   "outputs": [
    {
     "data": {
      "text/plain": [
       "('শেখ হাসিনার বিরুদ্ধে মামলার আবেদন প্রত্যাহার করা কৃষক দল নেতা সংগঠন থেকে বহিষ্কার',\n",
       " 'জেলা',\n",
       " '2024-08-27T20:29:10+06:00',\n",
       " 'ময়মনসিংহ অফিস',\n",
       " 'ময়মনসিংহের আদালতে শেখ হাসিনার বিরুদ্ধে মামলার আবেদন করার পর প্রত্যাহার করে নেওয়ায় উত্তর জেলা কৃষক দলের সদস্যসচিব শাহ মুহাম্মদ আলীকে দল থেকে বহিষ্কার করা হয়েছে। আজ মঙ্গলবার কৃষক দলের কেন্দ্রীয় দপ্তর সম্পাদক মো. শফিকুল ইসলাম স্বাক্ষরিত একটি চিঠিতে এ সিদ্ধান্ত জানানো হয়।\\nচিঠিতে বলা হয়, কৃষক দলের সভাপতি কৃষিবিদ হাসান জাফির তুহিন ও ভারপ্রাপ্ত সাধারণ সম্পাদক মোশারফ হোসেনের সিদ্ধান্ত মোতাবেক দলীয় শৃঙ্খলা ভঙ্গের সুষ্পষ্ট অভিযোগের ভিত্তিতে ময়মনসিংহ উত্তর জেলা কৃষক দলের সদস্যসচিব শাহ মুহাম্মদ আলীকে সংগঠনের প্রাথমিক সদস্যপদসহ সব পর্যায়ের পদ থেকে বহিষ্কার করা হয়েছে। জাতীয়তাবাদী কৃষক দলের সব পর্যায়ের নেতা–কর্মীকে তাঁর সঙ্গে সাংগঠনিক কোনো সম্পর্ক না রাখার জন্য অনুরোধ করা হয়েছে।\\nবহিষ্কারের বিষয়টি নিশ্চিত করেছেন উত্তর জেলা কৃষক দলের আহ্বায়ক আবুল বাশার আকন্দ। তিনি বলেন, দলের সঙ্গে বেঈমানি করার কারণে তাঁকে (মুহাম্মদ) বহিষ্কার করা হয়েছে। দলীয় সিদ্ধান্তে শেখ হাসিনাসহ আওয়ামী লীগের বিরুদ্ধে মামলা করা হয়। কিন্তু ব্যক্তি সুবিধার জন্য তিনি মামলাটি প্রত্যাহার করেন। এক প্রশ্নের জবাবে তিনি বলেন ‘মামলা আমি রেডি করে দিইনি। যেহেতু দলীয়ভাবে মামলা করা হয়, দল রেডি করে দিয়েছে।’\\nবহিষ্কৃত শাহ মুহাম্মদ আলী প্রথম আলোকে বলেন, মামলার আবেদন করলেও দলীয় কোনো নেতা দায়ভার নিতে চাচ্ছিলেন না। তাঁরা পাশ কাটিয়ে যাচ্ছিলেন। আদালতে মামলার আবেদন জমা দেওয়ার পরপরই বিএনপির অনেকে আওয়ামী লীগের কাছ থেকে টাকা–পয়সার লেনদেন শুরু করেন। তিনি তাঁদের নাম বলতে চান না। মামলায় বিএনপির তিনজন সমর্থক ও একজন ব্যবসায়ীর নাম দেওয়া হয়েছে ব্যক্তি আক্রোশে। মামলা বাশার আকন্দ প্রস্তুত করেন। তিনি শুধু স্বাক্ষর করেন। তিনি বলেন, ‘নেতা–কর্মীদের আসামি দেওয়াসহ বিভিন্ন কারণে ২৫ তারিখ আমি মামলাটি প্রত্যাহারের আবেদন করি। আমি দুর্দিনে দলের সঙ্গে ছিলাম। যখন কেউ দল করেনি, আমি করেছি। দলে আমার কিছু চাওয়া–পাওয়ার নেই। দুঃখজনক বিষয় হলো কেন্দ্র আমাকে ডাকেনি।’\\nগত ২০ জুলাই বৈষমবিরোধী ছাত্র আন্দোলনের সময় ফুলপুর পৌর শহরে সাইফুল ইসলাম (৩৭) নামের এক কৃষক ধান বিক্রি করতে গিয়ে গুলিবিদ্ধ হয়ে নিহত হন। তিনি রহিমগঞ্জ ইউনিয়ের চক ঢাকির কান্দা গ্রামের কৃষক তৈয়ব আলীর ছেলে। ওই ঘটনায় ২০ আগস্ট আদালতে মামলার আবেদন করেন শাহ মুহাম্মদ আলী। মামলায় সাবেক প্রধানমন্ত্রী শেখ হাসিনা, সাবেক সেতুমন্ত্রী ওবায়দুল কাদের, সাবেক স্বরাষ্ট্রমন্ত্রী আসাদুজ্জামান খানসহ ৬৭ জনের নাম উল্লেখ করা হয়। আদালত ওই ঘটনায় আগে মামলা হয়েছে কি না, জানতে চেয়ে পাঁচ দিন সময় দিয়ে ফুলপুর থানার ভারপ্রাপ্ত কর্মকর্তাকে (ওসি) নির্দেশ দেন। এর মধ্যে ২৫ আগস্ট বাদী আদালতে মামলা প্রত্যাহারের আবেদন করলে আদালত আবেদন আমলে নিয়ে মামলা প্রত্যাহার করেন।\\nঅন্যদিকে কৃষক সাইফুল ইসলাম হত্যার ঘটনায় ফুলপুর থানার উপপরিদর্শক (এসআই) শাহাদাত হোসেন মুন্না বাদী হয়ে গত ২৩ জুলাই অজ্ঞাতনামা পরিচয়ের ৫০ থেকে ৬০ জন দুষ্কৃতকারীর বিরুদ্ধে একটি হত্যা মামলা করেন।')"
      ]
     },
     "execution_count": 20,
     "metadata": {},
     "output_type": "execute_result"
    }
   ],
   "source": [
    "title = response.html.find('h1', first=True).text\n",
    "category_element = response.html.find('div.print-entity-section-wrapper')\n",
    "category = category_element[0].find('a', first=True).text\n",
    "\n",
    "datetime_element = response.html.find('time', first=True)\n",
    "news_datetime = datetime_element.attrs['datetime']\n",
    "reporter = response.html.find('.contributor-name', first=True).text\n",
    "\n",
    "news_body_element = response.html.find('p')\n",
    "news_body = \"\\n\".join([p.text for p in news_body_element])\n",
    "title, category, news_datetime, reporter, news_body"
   ]
  },
  {
   "cell_type": "code",
   "execution_count": 21,
   "metadata": {},
   "outputs": [
    {
     "data": {
      "text/plain": [
       "[]"
      ]
     },
     "execution_count": 21,
     "metadata": {},
     "output_type": "execute_result"
    }
   ],
   "source": [
    "response.html.find('img')"
   ]
  },
  {
   "cell_type": "code",
   "execution_count": 7,
   "metadata": {},
   "outputs": [],
   "source": [
    "images_element = response.html.find('img')\n",
    "images_element, len(images_element)\n",
    "for images in images_element:\n",
    "    image_url = images.attrs['src']\n",
    "    print(image_url)"
   ]
  },
  {
   "cell_type": "code",
   "execution_count": 8,
   "metadata": {},
   "outputs": [
    {
     "data": {
      "text/plain": [
       "<Response [200]>"
      ]
     },
     "execution_count": 8,
     "metadata": {},
     "output_type": "execute_result"
    }
   ],
   "source": [
    "response = session.get(\"https://books.toscrape.com/\")\n",
    "response"
   ]
  },
  {
   "cell_type": "code",
   "execution_count": 9,
   "metadata": {},
   "outputs": [
    {
     "data": {
      "text/plain": [
       "[<Element 'img' src='media/cache/2c/da/2cdad67c44b002e7ead0cc35693c0e8b.jpg' alt='A Light in the Attic' class=('thumbnail',)>,\n",
       " <Element 'img' src='media/cache/26/0c/260c6ae16bce31c8f8c95daddd9f4a1c.jpg' alt='Tipping the Velvet' class=('thumbnail',)>,\n",
       " <Element 'img' src='media/cache/3e/ef/3eef99c9d9adef34639f510662022830.jpg' alt='Soumission' class=('thumbnail',)>,\n",
       " <Element 'img' src='media/cache/32/51/3251cf3a3412f53f339e42cac2134093.jpg' alt='Sharp Objects' class=('thumbnail',)>,\n",
       " <Element 'img' src='media/cache/be/a5/bea5697f2534a2f86a3ef27b5a8c12a6.jpg' alt='Sapiens: A Brief History of Humankind' class=('thumbnail',)>,\n",
       " <Element 'img' src='media/cache/68/33/68339b4c9bc034267e1da611ab3b34f8.jpg' alt='The Requiem Red' class=('thumbnail',)>,\n",
       " <Element 'img' src='media/cache/92/27/92274a95b7c251fea59a2b8a78275ab4.jpg' alt='The Dirty Little Secrets of Getting Your Dream Job' class=('thumbnail',)>,\n",
       " <Element 'img' src='media/cache/3d/54/3d54940e57e662c4dd1f3ff00c78cc64.jpg' alt='The Coming Woman: A Novel Based on the Life of the Infamous Feminist, Victoria Woodhull' class=('thumbnail',)>,\n",
       " <Element 'img' src='media/cache/66/88/66883b91f6804b2323c8369331cb7dd1.jpg' alt='The Boys in the Boat: Nine Americans and Their Epic Quest for Gold at the 1936 Berlin Olympics' class=('thumbnail',)>,\n",
       " <Element 'img' src='media/cache/58/46/5846057e28022268153beff6d352b06c.jpg' alt='The Black Maria' class=('thumbnail',)>,\n",
       " <Element 'img' src='media/cache/be/f4/bef44da28c98f905a3ebec0b87be8530.jpg' alt='Starving Hearts (Triangular Trade Trilogy, #1)' class=('thumbnail',)>,\n",
       " <Element 'img' src='media/cache/10/48/1048f63d3b5061cd2f424d20b3f9b666.jpg' alt=\"Shakespeare's Sonnets\" class=('thumbnail',)>,\n",
       " <Element 'img' src='media/cache/5b/88/5b88c52633f53cacf162c15f4f823153.jpg' alt='Set Me Free' class=('thumbnail',)>,\n",
       " <Element 'img' src='media/cache/94/b1/94b1b8b244bce9677c2f29ccc890d4d2.jpg' alt=\"Scott Pilgrim's Precious Little Life (Scott Pilgrim #1)\" class=('thumbnail',)>,\n",
       " <Element 'img' src='media/cache/81/c4/81c4a973364e17d01f217e1188253d5e.jpg' alt='Rip it Up and Start Again' class=('thumbnail',)>,\n",
       " <Element 'img' src='media/cache/54/60/54607fe8945897cdcced0044103b10b6.jpg' alt='Our Band Could Be Your Life: Scenes from the American Indie Underground, 1981-1991' class=('thumbnail',)>,\n",
       " <Element 'img' src='media/cache/55/33/553310a7162dfbc2c6d19a84da0df9e1.jpg' alt='Olio' class=('thumbnail',)>,\n",
       " <Element 'img' src='media/cache/09/a3/09a3aef48557576e1a85ba7efea8ecb7.jpg' alt='Mesaerion: The Best Science Fiction Stories 1800-1849' class=('thumbnail',)>,\n",
       " <Element 'img' src='media/cache/0b/bc/0bbcd0a6f4bcd81ccb1049a52736406e.jpg' alt='Libertarianism for Beginners' class=('thumbnail',)>,\n",
       " <Element 'img' src='media/cache/27/a5/27a53d0bb95bdd88288eaf66c9230d7e.jpg' alt=\"It's Only the Himalayas\" class=('thumbnail',)>]"
      ]
     },
     "execution_count": 9,
     "metadata": {},
     "output_type": "execute_result"
    }
   ],
   "source": [
    "response.html.find('img')"
   ]
  },
  {
   "cell_type": "code",
   "execution_count": null,
   "metadata": {},
   "outputs": [],
   "source": []
  },
  {
   "cell_type": "code",
   "execution_count": 10,
   "metadata": {},
   "outputs": [
    {
     "data": {
      "text/plain": [
       "'তুরস্ক নৌবাহিনীর যুদ্ধজাহাজ চট্টগ্রাম বন্দরে'"
      ]
     },
     "execution_count": 10,
     "metadata": {},
     "output_type": "execute_result"
    }
   ],
   "source": [
    "title"
   ]
  },
  {
   "cell_type": "code",
   "execution_count": 11,
   "metadata": {},
   "outputs": [
    {
     "name": "stdout",
     "output_type": "stream",
     "text": [
      "\n",
      "£51.77\n",
      "In stock\n",
      "\n",
      "£53.74\n",
      "In stock\n",
      "\n",
      "£50.10\n",
      "In stock\n",
      "\n",
      "£47.82\n",
      "In stock\n",
      "\n",
      "£54.23\n",
      "In stock\n",
      "\n",
      "£22.65\n",
      "In stock\n",
      "\n",
      "£33.34\n",
      "In stock\n",
      "\n",
      "£17.93\n",
      "In stock\n",
      "\n",
      "£22.60\n",
      "In stock\n",
      "\n",
      "£52.15\n",
      "In stock\n",
      "\n",
      "£13.99\n",
      "In stock\n",
      "\n",
      "£20.66\n",
      "In stock\n",
      "\n",
      "£17.46\n",
      "In stock\n",
      "\n",
      "£52.29\n",
      "In stock\n",
      "\n",
      "£35.02\n",
      "In stock\n",
      "\n",
      "£57.25\n",
      "In stock\n",
      "\n",
      "£23.88\n",
      "In stock\n",
      "\n",
      "£37.59\n",
      "In stock\n",
      "\n",
      "£51.33\n",
      "In stock\n",
      "\n",
      "£45.17\n",
      "In stock\n"
     ]
    }
   ],
   "source": [
    "news_body = []\n",
    "all_p = response.html.find('p')\n",
    "for p in all_p:\n",
    "    # print(p.text)\n",
    "    news_body.append(p.text)\n",
    "news_body = '\\n'.join(news_body)\n",
    "print(news_body)"
   ]
  },
  {
   "cell_type": "code",
   "execution_count": 12,
   "metadata": {},
   "outputs": [
    {
     "ename": "AttributeError",
     "evalue": "'NoneType' object has no attribute 'text'",
     "output_type": "error",
     "traceback": [
      "\u001b[1;31m---------------------------------------------------------------------------\u001b[0m",
      "\u001b[1;31mAttributeError\u001b[0m                            Traceback (most recent call last)",
      "Cell \u001b[1;32mIn[12], line 1\u001b[0m\n\u001b[1;32m----> 1\u001b[0m reporter \u001b[38;5;241m=\u001b[39m response\u001b[38;5;241m.\u001b[39mhtml\u001b[38;5;241m.\u001b[39mfind(\u001b[38;5;124m'\u001b[39m\u001b[38;5;124m.contributor-name\u001b[39m\u001b[38;5;124m'\u001b[39m, first\u001b[38;5;241m=\u001b[39m\u001b[38;5;28;01mTrue\u001b[39;00m)\u001b[38;5;241m.\u001b[39mtext\n\u001b[0;32m      2\u001b[0m reporter_location \u001b[38;5;241m=\u001b[39m response\u001b[38;5;241m.\u001b[39mhtml\u001b[38;5;241m.\u001b[39mfind(\u001b[38;5;124m'\u001b[39m\u001b[38;5;124m.author-location\u001b[39m\u001b[38;5;124m'\u001b[39m, first\u001b[38;5;241m=\u001b[39m\u001b[38;5;28;01mTrue\u001b[39;00m)\u001b[38;5;241m.\u001b[39mtext\n\u001b[0;32m      3\u001b[0m datetime \u001b[38;5;241m=\u001b[39m response\u001b[38;5;241m.\u001b[39mhtml\u001b[38;5;241m.\u001b[39mfind(\u001b[38;5;124m'\u001b[39m\u001b[38;5;124mtime\u001b[39m\u001b[38;5;124m'\u001b[39m, first\u001b[38;5;241m=\u001b[39m\u001b[38;5;28;01mTrue\u001b[39;00m)\u001b[38;5;241m.\u001b[39mtext\n",
      "\u001b[1;31mAttributeError\u001b[0m: 'NoneType' object has no attribute 'text'"
     ]
    }
   ],
   "source": [
    "reporter = response.html.find('.contributor-name', first=True).text\n",
    "reporter_location = response.html.find('.author-location', first=True).text\n",
    "datetime = response.html.find('time', first=True).text\n",
    "category = response.html.find('.print-entity-section-wrapper', first=True).text\n",
    "reporter, reporter_location, datetime, category"
   ]
  },
  {
   "cell_type": "code",
   "execution_count": 13,
   "metadata": {},
   "outputs": [],
   "source": [
    "images = response.html.find('#f91ea423-844b-4374-b73b-6abdeac72a51 > div.storyCard.eyOoS > div:nth-child(2) > div > div:nth-child(1) > div > figure > picture > img')"
   ]
  },
  {
   "cell_type": "code",
   "execution_count": null,
   "metadata": {},
   "outputs": [],
   "source": []
  }
 ],
 "metadata": {
  "kernelspec": {
   "display_name": "base",
   "language": "python",
   "name": "python3"
  },
  "language_info": {
   "codemirror_mode": {
    "name": "ipython",
    "version": 3
   },
   "file_extension": ".py",
   "mimetype": "text/x-python",
   "name": "python",
   "nbconvert_exporter": "python",
   "pygments_lexer": "ipython3",
   "version": "3.11.5"
  }
 },
 "nbformat": 4,
 "nbformat_minor": 2
}
